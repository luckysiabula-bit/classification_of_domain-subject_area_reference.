{
  "nbformat": 4,
  "nbformat_minor": 0,
  "metadata": {
    "colab": {
      "provenance": [],
      "include_colab_link": true
    },
    "kernelspec": {
      "name": "python3",
      "display_name": "Python 3"
    },
    "language_info": {
      "name": "python"
    }
  },
  "cells": [
    {
      "cell_type": "markdown",
      "metadata": {
        "id": "view-in-github",
        "colab_type": "text"
      },
      "source": [
        "<a href=\"https://colab.research.google.com/github/luckysiabula-bit/classification_of_domain-subject_area_reference./blob/main/classification_of_domain_subject_area_reference.ipynb\" target=\"_parent\"><img src=\"https://colab.research.google.com/assets/colab-badge.svg\" alt=\"Open In Colab\"/></a>"
      ]
    },
    {
      "cell_type": "markdown",
      "source": [],
      "metadata": {
        "id": "MLeomiUVJXkL"
      }
    },
    {
      "cell_type": "markdown",
      "source": [],
      "metadata": {
        "id": "Dtr7mnwqoryn"
      }
    },
    {
      "cell_type": "code",
      "execution_count": null,
      "metadata": {
        "id": "YwAvANNv_Huk"
      },
      "outputs": [],
      "source": []
    },
    {
      "cell_type": "markdown",
      "source": [
        "2"
      ],
      "metadata": {
        "id": "JQYI6IngozO8"
      }
    },
    {
      "cell_type": "markdown",
      "source": [
        "# 1. Business Understanding\n",
        "### 1.1 Problem Statement\n",
        "\n",
        "The rapid growth of digital content in education, research, and industry has made it increasingly difficult to organize and retrieve information effectively. Manual classification of documents into subject areas or domains is slow, costly, and prone to inconsistency due to human error. This creates barriers to efficient knowledge management and slows down research or learning processes.\n",
        "\n",
        "An automated classification system for domain/subject area reference will allow organizations to process large volumes of documents quickly, assign them to appropriate categories, and improve accessibility for end-users.\n"
      ],
      "metadata": {
        "id": "_U6o5FQiIgFM"
      }
    },
    {
      "cell_type": "markdown",
      "source": [
        "### 1.2 Business Objectives\n",
        "\n",
        "The main business objective is to develop an automated classification system that assigns documents to predefined subject areas with high accuracy and efficiency.\n",
        "\n",
        "From a real-world perspective, success means:\n",
        "- Reducing manual classification workload by at least 70%.\n",
        "- Achieving a minimum classification accuracy of 80%.\n",
        "- Improving document retrieval time in repositories and databases.\n",
        "- Increasing user satisfaction by making content easier to find and navigate."
      ],
      "metadata": {
        "id": "vGaYsMkOo1Ye"
      }
    },
    {
      "cell_type": "markdown",
      "source": [
        "### 1.3 Data Mining Goals\n",
        "\n",
        "To achieve the stated business objectives, the project will:\n",
        "- Build a supervised classification model capable of predicting the correct subject area from textual input.\n",
        "- Use Natural Language Processing (NLP) techniques such as TF-IDF vectorization and word embeddings to extract meaningful features from text.\n",
        "- Test multiple algorithms including Logistic Regression, Random Forest, Support Vector Machines, and transformer-based models like BERT.\n",
        "- Select the model that provides the best trade-off between accuracy, speed, and interpretability."
      ],
      "metadata": {
        "id": "J1dSqtz3JxF3"
      }
    },
    {
      "cell_type": "markdown",
      "source": [
        "### 1.4 Initial Project Success Criteria\n",
        "\n",
        "The project will be considered successful if:\n",
        "- The model achieves at least 80% accuracy on the test dataset.\n",
        "- Precision and recall for each subject area are above 0.75.\n",
        "- The system processes at least 500 documents per minute without significant performance loss.\n",
        "- Classifications match expert-labeled results in at least 8 out of 10 randomly reviewed cases"
      ],
      "metadata": {
        "id": "vTC1Nt6uouLu"
      }
    },
    {
      "cell_type": "markdown",
      "source": [
        "### 1.5 Section Integration\n",
        "\n",
        "This section integrates all parts of the Business Understanding phase into a single, well-structured document. The text is organized into four main subsections: Problem Statement, Business Objectives, Data Mining Goals, and Initial Project Success Criteria. The same content is reflected in both the Google Colab notebook and the README.md file to ensure consistency between development and documentation. Formatting, headings, and numbering follow a clear and professional style for ease of reading."
      ],
      "metadata": {
        "id": "vYVgh0GQKI9X"
      }
    },
    {
      "cell_type": "markdown",
      "source": [
        "2.0 SECTION TWO\n",
        "\n",
        "**2. Data Understanding**\n",
        "\n",
        "This section loads the raw dataset, performs first-look exploration, and visualizes key distributions to identify data quality issues and class balance.\n",
        "\n"
      ],
      "metadata": {
        "id": "DRPpDP9H52hd"
      }
    },
    {
      "cell_type": "code",
      "source": [],
      "metadata": {
        "id": "SveGrXiP8DK3"
      },
      "execution_count": null,
      "outputs": []
    },
    {
      "cell_type": "markdown",
      "source": [],
      "metadata": {
        "id": "2bNRuAj5xazC"
      }
    },
    {
      "cell_type": "markdown",
      "source": [
        "## 2.1 Load the Dataset\n",
        "\n",
        "We loaded the dataset into a Pandas DataFrame. The dataset contains BBC News articles with three columns:\n",
        "\n",
        "- **ArticleId** – a unique identifier for each document  \n",
        "- **Text** – the full article text  \n",
        "- **Category** – the subject area label (target variable)\n"
      ],
      "metadata": {
        "id": "5-epNaUex_l1"
      }
    },
    {
      "cell_type": "code",
      "source": [
        "from google.colab import drive\n",
        "import pandas as pd\n",
        "import matplotlib.pyplot as plt\n",
        "import seaborn as sns\n",
        "# Mount Google Drive\n",
        "drive.mount('/content/drive')\n",
        "\n",
        "# Path to your file in Google Drive\n",
        "file_path = '/content/drive/MyDrive/BBC News Train.csv'\n",
        "\n",
        "# Load dataset\n",
        "df = pd.read_csv(file_path)\n",
        "\n",
        "# Display info about dataset\n",
        "print(df.head())      # () needed to call the method"
      ],
      "metadata": {
        "colab": {
          "base_uri": "https://localhost:8080/"
        },
        "id": "N8KuPHOwPg3S",
        "outputId": "747610d6-16ce-4d92-bd3c-f149e4ee5042"
      },
      "execution_count": null,
      "outputs": [
        {
          "output_type": "stream",
          "name": "stdout",
          "text": [
            "Drive already mounted at /content/drive; to attempt to forcibly remount, call drive.mount(\"/content/drive\", force_remount=True).\n",
            "   ArticleId                                               Text  Category\n",
            "0       1833  worldcom ex-boss launches defence lawyers defe...  business\n",
            "1        154  german business confidence slides german busin...  business\n",
            "2       1101  bbc poll indicates economic gloom citizens in ...  business\n",
            "3       1976  lifestyle  governs mobile choice  faster  bett...      tech\n",
            "4        917  enron bosses in $168m payout eighteen former e...  business\n"
          ]
        }
      ]
    },
    {
      "cell_type": "markdown",
      "source": [
        "## 2.2 Dataset Structure  \n",
        "\n",
        "The dataset contains **1,490 rows** and **3 columns**.  \n",
        "\n",
        "**Columns:**  \n",
        "- `ArticleId` *(integer, unique ID)*  \n",
        "- `Text` *(string, main content)*  \n",
        "- `Category` *(string, label for classification)*  \n",
        "\n",
        "No missing values were found in any of the columns.  \n"
      ],
      "metadata": {
        "id": "kj6Pp7uN3GiN"
      }
    },
    {
      "cell_type": "code",
      "source": [
        "from google.colab import drive\n",
        "import pandas as pd\n",
        "\n",
        "# Mount Google Drive\n",
        "drive.mount('/content/drive')\n",
        "\n",
        "# Path to your file in Google Drive\n",
        "file_path = '/content/drive/MyDrive/BBC News Train.csv'\n",
        "\n",
        "# Load dataset\n",
        "df = pd.read_csv(file_path)\n",
        "df.shape\n",
        "df.info()"
      ],
      "metadata": {
        "id": "OXcOP7p3z7ie",
        "outputId": "25627317-d013-4bd2-d0fe-5cdadff3c267",
        "colab": {
          "base_uri": "https://localhost:8080/"
        }
      },
      "execution_count": 5,
      "outputs": [
        {
          "output_type": "stream",
          "name": "stdout",
          "text": [
            "Drive already mounted at /content/drive; to attempt to forcibly remount, call drive.mount(\"/content/drive\", force_remount=True).\n",
            "<class 'pandas.core.frame.DataFrame'>\n",
            "RangeIndex: 1490 entries, 0 to 1489\n",
            "Data columns (total 3 columns):\n",
            " #   Column     Non-Null Count  Dtype \n",
            "---  ------     --------------  ----- \n",
            " 0   ArticleId  1490 non-null   int64 \n",
            " 1   Text       1490 non-null   object\n",
            " 2   Category   1490 non-null   object\n",
            "dtypes: int64(1), object(2)\n",
            "memory usage: 35.1+ KB\n"
          ]
        }
      ]
    }
  ]
}