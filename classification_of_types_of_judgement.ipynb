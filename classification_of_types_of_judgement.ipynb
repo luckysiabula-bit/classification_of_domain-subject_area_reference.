{
  "nbformat": 4,
  "nbformat_minor": 0,
  "metadata": {
    "colab": {
      "provenance": [],
      "include_colab_link": true
    },
    "kernelspec": {
      "name": "python3",
      "display_name": "Python 3"
    },
    "language_info": {
      "name": "python"
    }
  },
  "cells": [
    {
      "cell_type": "markdown",
      "metadata": {
        "id": "view-in-github",
        "colab_type": "text"
      },
      "source": [
        "<a href=\"https://colab.research.google.com/github/luckysiabula-bit/judgment-classification-project/blob/main/classification_of_types_of_judgement.ipynb\" target=\"_parent\"><img src=\"https://colab.research.google.com/assets/colab-badge.svg\" alt=\"Open In Colab\"/></a>"
      ]
    },
    {
      "cell_type": "code",
      "execution_count": null,
      "metadata": {
        "id": "MopsFMkRWSVy"
      },
      "outputs": [],
      "source": []
    },
    {
      "cell_type": "markdown",
      "source": [],
      "metadata": {
        "id": "NW6_Xca9yf_r"
      }
    },
    {
      "cell_type": "markdown",
      "source": [
        "1. Business Understanding\n",
        " Problem Statement\n",
        "The legal system in Zambia produces a large volume of judgments in PDF format, published through platforms such as the Zambia Legal Information Institute (ZambiaLII) and the National Assembly of Zambia. These documents are often lengthy, unstructured, and difficult for the public, legal professionals, and policymakers to search or navigate effectively.\n",
        "\n",
        "Currently, judgments are not automatically categorized by type (e.g., criminal, civil, constitutional), making it time-consuming to locate relevant precedents or case information. Our project aims to solve this problem by developing a system that automatically classifies judgments into their respective types directly from PDF input, enabling quicker retrieval and better organization of legal information.\n",
        "\n"
      ],
      "metadata": {
        "id": "nulwnvF8yso7"
      }
    },
    {
      "cell_type": "markdown",
      "source": [],
      "metadata": {
        "id": "O62pqns9_Xmx"
      }
    },
    {
      "cell_type": "markdown",
      "source": [],
      "metadata": {
        "id": "L-pzkl045-oN"
      }
    }
  ]
}